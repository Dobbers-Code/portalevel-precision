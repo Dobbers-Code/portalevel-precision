{
 "cells": [
  {
   "cell_type": "raw",
   "metadata": {},
   "source": [
    "<script>\n",
    "  function code_toggle() {\n",
    "    if (code_shown){\n",
    "      $('div.input').hide('500');\n",
    "      $('#toggleButton').val('Show Code')\n",
    "    } else {\n",
    "      $('div.input').show('500');\n",
    "      $('#toggleButton').val('Hide Code')\n",
    "    }\n",
    "    code_shown = !code_shown\n",
    "  }\n",
    "\n",
    "  $( document ).ready(function(){\n",
    "    code_shown=false;\n",
    "    $('div.input').hide()\n",
    "  });\n",
    "</script>\n",
    "<form action=\"javascript:code_toggle()\"><input type=\"submit\" id=\"toggleButton\" value=\"Show Code\"></form>"
   ]
  },
  {
   "cell_type": "markdown",
   "metadata": {},
   "source": [
    "# Theoretical Precision of the Portalevel - An Interactive Analysis"
   ]
  },
  {
   "cell_type": "markdown",
   "metadata": {},
   "source": [
    "What follows is a short analysis of the maximum theoretical precision of the Portalevel. Note that a simplified approach is used based on a number of assumptions and that the practical precision of Portalevel devices is certainly larger than the theoretical values calculated here. Thus, this analysis serves primarily as an understanding of what might be achievable in an idealised setting and **any values stated here must not be quoted as indicative of the genuine precision of any Portalevel devices.**"
   ]
  },
  {
   "cell_type": "markdown",
   "metadata": {},
   "source": [
    "### An Assumption about the Number of Reflections"
   ]
  },
  {
   "cell_type": "markdown",
   "metadata": {},
   "source": [
    "Firstly, it is assumed that the measured part of the signal travels exclusively within the walls of the cylinder and that it takes the path of least resistance, which is assumed to be the most direct path around the circumference. Along this path, each \"reflection\" off of the inner wall is tangent to the circle i.e. it is more of a \"brush\". Using geometrical principles it is trivial to prove that, along this path, the number of reflections, *n* on the inner wall of the cylinder will be equal to the following expression for a cylinder of outer radius, *r* and wall thickness, *t*.\n",
    "\n",
    "$$\n",
    "n = \\frac{\\pi}{\\arccos{\\left(\\frac{r-t}{r}\\right)}}\n",
    "$$"
   ]
  },
  {
   "cell_type": "code",
   "execution_count": 1,
   "metadata": {},
   "outputs": [
    {
     "data": {
      "application/vnd.jupyter.widget-view+json": {
       "model_id": "ce84370eded84dd7a5ea4b0483e388c5",
       "version_major": 2,
       "version_minor": 0
      },
      "text/plain": [
       "interactive(children=(FloatSlider(value=2.62, description='c', max=5.0, min=0.25, step=0.01), FloatSlider(valu…"
      ]
     },
     "metadata": {},
     "output_type": "display_data"
    }
   ],
   "source": [
    "import math\n",
    "import matplotlib.pyplot as plt\n",
    "from matplotlib.patches import Circle\n",
    "from ipywidgets import interact\n",
    "\n",
    "@interact\n",
    "def calculate_n(c=(0.25, 5.0, 0.01), wt=(0.1, 40.0, 0.1)):\n",
    "    #  create table for circumference, c (m) and wall thickness, wt (mm)\n",
    "    \n",
    "    t = wt / 1000  # convert to (m)\n",
    "    r = c / 2 / math.pi  # radius (m)\n",
    "    theta = 2 * math.acos((r - t) / r)\n",
    "\n",
    "    n = math.ceil(2 * math.pi / theta)  # number of reflections (rounded up to nearest integer)\n",
    "\n",
    "    print(\"There will be {n} reflections for a cylinder of wall thickness {wt}mm and circumference {c}m.\".format(wt=wt, c=c,\n",
    "                                                                                                                 n=n))\n",
    "    \n",
    "    fig, ax = plt.subplots()\n",
    "    circle1 = plt.Circle((0, 0), r, color='black', fill=False)\n",
    "    circle2 = plt.Circle((0, 0), r - t, color='black', fill=False)\n",
    "    ax.add_patch(circle1)\n",
    "    ax.add_patch(circle2)\n",
    "    ax.set_aspect(1)\n",
    "    ax.set_frame_on(False)\n",
    "    ax.get_xaxis().set_visible(False)\n",
    "    ax.get_yaxis().set_visible(False)\n",
    "    \n",
    "    for i in range(n):\n",
    "        x1 = - r * math.cos(i * theta - math.pi / 2)\n",
    "        y1 = r * math.sin(i * theta - math.pi / 2)\n",
    "        x2 = - r * math.cos((i + 1) * theta - math.pi / 2)\n",
    "        y2 = r * math.sin((i + 1) * theta - math.pi / 2)\n",
    "        ax.plot([x1, x2], [y1, y2], color='black', linewidth=1)  # x axis\n",
    "    \n",
    "    "
   ]
  },
  {
   "cell_type": "markdown",
   "metadata": {},
   "source": [
    "### Relative Amplitudes in a Rectangular Crystal"
   ]
  },
  {
   "cell_type": "markdown",
   "metadata": {},
   "source": [
    "It is the difference in the reflection coefficients above liquid level and below liquid level that is the key physical principle behind the ability of ultrasound to differentiate the two states. Thus, in order to attempt to gain some idea of the maximum precision, we must find the separation either side of the liquid level at which the difference in the signal received is substantial enough to be picked up by the Portalevel sensor. To make sense of this, let us observe the following interactive diagrams concerning the rectangular piezo-electric crystal used by the Portalevel TOUCH."
   ]
  },
  {
   "cell_type": "code",
   "execution_count": 2,
   "metadata": {},
   "outputs": [
    {
     "data": {
      "application/vnd.jupyter.widget-view+json": {
       "model_id": "f5ff1b686371488b9275feb859c75202",
       "version_major": 2,
       "version_minor": 0
      },
      "text/plain": [
       "interactive(children=(FloatSlider(value=5.0, description='L', max=10.0), FloatSlider(value=2.62, description='…"
      ]
     },
     "metadata": {},
     "output_type": "display_data"
    }
   ],
   "source": [
    "import matplotlib.pyplot as plt\n",
    "from matplotlib.patches import Rectangle\n",
    "import numpy\n",
    "\n",
    "h = 20  # height of crystal (mm)\n",
    "w = 5  # width of crystal (mm)\n",
    "\n",
    "@interact\n",
    "\n",
    "def create_crystal_images(L=(0, h / 2, 0.1), c=(0.25, 5.0, 0.01), wt=(0.1, 40.0, 0.1),\n",
    "                          a=[\"CO\\u2082\", \"Novec\\u2122 1230\", \"FM-200\\u2122\"]):\n",
    "\n",
    "    fig, axs = plt.subplots(2, 2, gridspec_kw={'height_ratios': [2, 1]})\n",
    "    (ax1, ax2), (ax3, ax4) = axs\n",
    "    colour = 'blue'\n",
    "    for ax in [ax1, ax2]:        \n",
    "        rect1 = Rectangle((w, - h / 2), w, h, linewidth=1, color='black', fill=False)\n",
    "        rect2 = Rectangle((w, L), w, h / 2 - L, linewidth=1, color='gray')\n",
    "        rect3 = Rectangle((w, - h / 2), w, h / 2 + L, linewidth=1, color=colour)\n",
    "        ax.add_patch(rect3)\n",
    "        ax.add_patch(rect2)\n",
    "        ax.add_patch(rect1)\n",
    "        ax.plot([0, 3 * w], [L, L], color='black', linewidth=1, linestyle ='--')\n",
    "        ax.arrow(w, h / 2 + 1, w, 0, head_width=0.5, head_length=0.25, linewidth=0.5, color='black', length_includes_head=True)\n",
    "        ax.arrow(2 * w, h / 2 + 1, -w, 0, head_width=0.5, head_length=0.25, linewidth=0.5, color='black', length_includes_head=True)\n",
    "        ax.text(w * 1.5 - 0.8, h / 2 + 1.7, 'w')\n",
    "        ax.text(w * 1.5 - 1, h / 4 + L / 2 - 0.4, 'X\\u208A', fontsize=15)\n",
    "        ax.text(w * 1.5 - 1, - h / 4 + L / 2 - 0.4, 'X\\u208B', fontsize=15)\n",
    "\n",
    "        # axes formatting\n",
    "        ax.set_frame_on(False)\n",
    "        ax.get_xaxis().set_visible(False)\n",
    "        ax.plot([0, 3 * w], [0, 0], color='black', linewidth=1)  # x axis\n",
    "        ax.plot([0, 0], [- h / 2 - 2, h / 2 + 2], color='black', linewidth=1)  # y axis\n",
    "        ax.set_yticks([-h/2, 0, L, h/2])\n",
    "        ax.set_xlim([0, h])\n",
    "        ax.set_ylim([- h / 2 - 2, h / 2 + 2])\n",
    "        ax.set_aspect(1)\n",
    "        L=-L\n",
    "        colour = 'red'\n",
    "    \n",
    "    \n",
    "    ax1.set_yticklabels([r'$-\\frac{h}{2}$', 0, r'$L$', r'$\\frac{h}{2}$'])\n",
    "    ax2.set_yticklabels([r'$-\\frac{h}{2}$', 0, r'$-L$', r'$\\frac{h}{2}$'])\n",
    "    ax1.set_ylabel('Height (mm)')\n",
    "    \n",
    "    if a == \"CO\\u2082\":\n",
    "        r_g = 0.996751447224324  # Reflection Coefficient (steel-gas)\n",
    "        r_l = 0.96941482         # Reflection Coefficient (steel-liquid)\n",
    "    elif a == \"Novec\\u2122 1230\":\n",
    "        r_g = 0.999706997\n",
    "        r_l = 0.927788768\n",
    "    elif a == \"FM-200\\u2122\":\n",
    "        r_g = 0.999706997\n",
    "        r_l = 0.94601711\n",
    "        \n",
    "    wt /= 1000  # convert to (m)\n",
    "    r = c / 2 / math.pi  # radius (m)\n",
    "\n",
    "    n = math.ceil(math.pi / math.acos((r - wt) / r))  # number of reflections (rounded up to nearest integer)\n",
    "        \n",
    "    a_plus_hat = (r_g ** n * (h / 2 - L) + r_l ** n * (h / 2 + L)) / (h * r_g ** n)\n",
    "    a_minus_hat = (r_g ** n * (h / 2 + L) + r_l ** n * (h / 2 - L)) / (h * r_g ** n)\n",
    "    xs = numpy.linspace(0, math.pi, 1000)\n",
    "    ys1 = [a_plus_hat * math.sin(x) for x in xs]\n",
    "    ax3.plot(xs, ys1, color='blue', linewidth=1, label=r'$\\hat{A}_L$' )\n",
    "    ys2 = [a_minus_hat * math.sin(x) for x in xs]\n",
    "    ax3.plot(xs, ys2, color='red', linewidth=1, label=r'$\\hat{A}_{-L}$' )\n",
    "    ys3 = [ys2[i] - ys1[i] for i in range(len(xs))]\n",
    "    ax4.plot(xs, ys3, color='green', linewidth=1, label=r'$\\Delta\\hat{A}_L$' )\n",
    "       \n",
    "    for ax in [ax3, ax4]:\n",
    "        ax.set_frame_on(False)\n",
    "        ax.get_xaxis().set_visible(False)\n",
    "        ax.plot([0, 0], [0, 1], color='black', linewidth=1)  # y axis\n",
    "        ax.set_yticks([0, 0.5, 1])\n",
    "        ax.set_yticklabels(['0%', '50%', '100%'])\n",
    "        ax.set_xlim([0, math.pi])\n",
    "        ax.set_ylim([0, 1])\n",
    "        \n",
    "    ax3.set_ylabel('Signal Amplitude (%)')\n",
    "\n",
    "    handles, labels = [(a + b) for a, b in zip(ax3.get_legend_handles_labels(), ax4.get_legend_handles_labels())]\n",
    "    fig.legend(handles, labels, loc=\"upper right\")\n",
    "\n",
    "    wt = int(wt * 100000) / 1000\n",
    "    print(\"h = height of crystal ({} mm)\".format(h))\n",
    "    print(\"w = width of crystal ({} mm)\".format(w))\n",
    "    print(\"L = liquid level above centre line ({} mm)\".format(L))\n",
    "    print(\"c = circumference of cylinder ({} m)\".format(c))\n",
    "    print(\"wt = wall thickness of cylinder ({} mm)\".format(wt))\n",
    "    print(\"a = agent ({})\".format(a))\n",
    "    plt.show()\n"
   ]
  },
  {
   "cell_type": "markdown",
   "metadata": {},
   "source": [
    "Observing first the diagram in the top left corner of the above figure, the area of the crystal that is exposed to the gas-steel interface, we call $X_{+}$ (coloured grey) and the area that is exposed to the liquid-steel interface we call $X_{-}$ (coloured, in this case, blue). Therefore, if we assume that the signal is received homogeneously over the entirety of the crystal face, the total amplitude received is proportional to $A_{L}={R_{g}}^{n}X_{+}+{R_{l}}^{n}X_{-}$ where $R_{g}$ is the coefficient of reflection at the gas-steel interface, $R_{l}$ is the coefficient of reflection at the gas-liquid interface and $n$ is the number of reflections that take place (see earlier discussion).\n",
    "\n",
    "The subscript $L$ indicates that this amplitude may be calculated for any liquid level that we choose. Now we shall look at the same scenario, but with the liquid level positioned an equal distance **beneath** the centre line of the crystal. This is the diagram in the top right corner of the above figure.\n",
    "\n",
    "Let us call the amplitude for the second diagram '$A_{-L}$' such that we can express the difference of the amplitudes as $A_{-L}-A_{L}$. The difference in amplitude between the two positions, normalised by the maximum amplitude (which occurs when the entire crystal is positioned above the liquid level) is therefore given by $$\\Delta\\hat{A}_L = \\frac{A_{-L}-A_{L}}{A_{-\\frac{h}{2}}}=\\frac{\\hat{A}_{-L}-\\hat{A}_{L}}{{R_g}^n}$$\n",
    "\n",
    "In the case of a rectangular crystal, we have\n",
    "\\begin{align}\n",
    "A_{L}&={R_{g}}^{n}w\\left(\\frac{h}{2}-L\\right)+{R_{l}}^{n}w\\left(\\frac{h}{2}+L\\right)\\\\\n",
    "A_{-L}&={R_{g}}^{n}w\\left(\\frac{h}{2}+L\\right)+{R_{l}}^{n}w\\left(\\frac{h}{2}-L\\right)\\\\\n",
    "A_{-\\frac{h}{2}}&={R_{g}}^{n}wh\n",
    "\\end{align}.\n",
    "Therefore,\n",
    "$$\\Delta\\hat{A}_L=\\frac{2L}{h}\\frac{{R_g}^n-{R_l}^n}{{R_g}^n}$$.\n",
    "\n",
    "Now that we know the expression for the normalised amplitude difference between the two crystal positions, we can equate this to a property of the Portalevel that determines the signal resolution and solve for L to find the precision. The property we equate to is, in fact, the inverse of the Signal-to-Noise Ratio.\n",
    "\n",
    "$$\\frac{1}{SNR}=\\Delta\\hat{A}_L$$.\n",
    "\n",
    "Thus, in the above case, we find that\n",
    "\n",
    "$$L=\\frac{h}{2\\cdot SNR}\\frac{{R_g}^n}{{R_g}^n-{R_l}^n}$$\n",
    "\n",
    "where L is the precision in millimetres."
   ]
  },
  {
   "cell_type": "markdown",
   "metadata": {},
   "source": [
    "### Relative Amplitudes in a Circular Crystal"
   ]
  },
  {
   "cell_type": "markdown",
   "metadata": {},
   "source": [
    "Before we use the above equation to perform some calculations, we will now turn to the more tricky example of the circular crystal used by the Portalevel MAX and all preceding Portalevels. Using the fact that the area of a segment of a circle of central angle $\\theta$ and radius $r$ is given by\n",
    "\n",
    "$$X=\\frac{\\theta-\\sin\\theta}{2}r^2$$,\n",
    "\n",
    "and using simple trigonometry, we find that the area of the crystal above a liquid level, L is given by the expression\n",
    "\n",
    "$$X_+=\\left[\\arccos\\left(\\frac{L}{r}\\right)-\\frac{L}{r}\\sin\\left(\\arccos\\left(\\frac{L}{r}\\right)\\right)\\right]r^2$$\n",
    "\n",
    "Taking the difference between $X_+$ and $X_-$ and normalising by the maximum value, (and after a bit of algebraic simplification) we find that the corresponding normalised amplitude difference may be expressed as\n",
    "\n",
    "$$\\Delta\\hat{A}_L=\\frac{{R_g}^n-{R_l}^n}{\\pi{R_g}^n}\\left[\\pi-2\\arccos\\left(\\frac{2L}{h}\\right)+\\frac{4L}{h}\\sqrt{1-\\frac{4L^2}{h^2}}\\right]$$\n",
    "\n",
    "Equating to the inverse of the Signal-to-Noise Ratio, we find that solving for $L$ is nontrivial and thus the solution will be computed numerically."
   ]
  },
  {
   "cell_type": "code",
   "execution_count": 3,
   "metadata": {},
   "outputs": [
    {
     "data": {
      "application/vnd.jupyter.widget-view+json": {
       "model_id": "8a3f70926bf3465998e4ed1382f4b69b",
       "version_major": 2,
       "version_minor": 0
      },
      "text/plain": [
       "interactive(children=(FloatSlider(value=3.7, description='L', max=7.5), FloatSlider(value=2.62, description='c…"
      ]
     },
     "metadata": {},
     "output_type": "display_data"
    }
   ],
   "source": [
    "import matplotlib.pyplot as plt\n",
    "from matplotlib.patches import Circle\n",
    "import numpy\n",
    "\n",
    "d = 15  # diameter of crystal (mm)\n",
    "\n",
    "@interact\n",
    "\n",
    "def create_crystal_images(L=(0, d / 2, 0.1), c=(0.25, 5.0, 0.01), wt=(0.1, 40.0, 0.1),\n",
    "                          a=[\"CO\\u2082\", \"Novec\\u2122 1230\", \"FM-200\\u2122\"]):\n",
    "\n",
    "    fig, axs = plt.subplots(2, 2, gridspec_kw={'height_ratios': [2, 1]})\n",
    "    (ax1, ax2), (ax3, ax4) = axs\n",
    "    colour1 = 'blue'\n",
    "    colour2 = 'gray'\n",
    "    for ax in [ax1, ax2]:\n",
    "        centre_x = d / 2 + 1\n",
    "        circle = Circle((centre_x, 0), d / 2, linewidth=1, color='black', fill=False)\n",
    "        circle_fill = Circle((centre_x, 0), d / 2, linewidth=1, color=colour1)\n",
    "        x = numpy.linspace(centre_x - math.sqrt((d / 2) ** 2 - L ** 2), centre_x + math.sqrt((d / 2) ** 2 - L ** 2), 100)\n",
    "        y1 = math.copysign(1, L) * numpy.sqrt((d / 2) ** 2 - (x - centre_x) ** 2)\n",
    "        y2 = [L] * 100\n",
    "        ax.add_patch(circle_fill)\n",
    "        ax.fill_between(x, y2, y1, color=colour2, zorder=2)\n",
    "        ax.add_patch(circle)\n",
    "        ax.plot([0, 2 * d], [L, L], color='black', linewidth=1, linestyle ='--')\n",
    "        ax.text(d / 2, d / 4 + L / 2 - 1, 'X\\u208A', fontsize=15)\n",
    "        ax.text(d / 2, - d / 4 + L / 2 - 1, 'X\\u208B', fontsize=15)\n",
    "\n",
    "        # axes formatting\n",
    "        ax.set_frame_on(False)\n",
    "        ax.get_xaxis().set_visible(False)\n",
    "        ax.plot([0, d + 4], [0, 0], color='black', linewidth=1)  # x axis\n",
    "        ax.plot([0, 0], [- d / 2 - 2, d / 2 + 2], color='black', linewidth=1)  # y axis\n",
    "        ax.set_yticks([-d/2, 0, L, d/2])\n",
    "        ax.set_xlim([0, d + 4])\n",
    "        ax.set_ylim([- d / 2 - 2, d / 2 + 2])\n",
    "        ax.set_aspect(1)\n",
    "        \n",
    "        # These are the only things that differ for ax2\n",
    "        L=-L\n",
    "        colour1 = 'gray'\n",
    "        colour2 = 'red'\n",
    "        \n",
    "    L = abs(L)  # set L back to what it should be for later\n",
    "    \n",
    "    \n",
    "    ax1.set_yticklabels([r'$-\\frac{d}{2}$', 0, r'$L$', r'$\\frac{d}{2}$'])\n",
    "    ax2.set_yticklabels([r'$-\\frac{d}{2}$', 0, r'$-L$', r'$\\frac{d}{2}$'])\n",
    "    ax1.set_ylabel('Height (mm)')\n",
    "    \n",
    "    if a == \"CO\\u2082\":\n",
    "        r_g = 0.996751447224324  # Reflection Coefficient (steel-gas)\n",
    "        r_l = 0.96941482         # Reflection Coefficient (steel-liquid)\n",
    "    elif a == \"Novec\\u2122 1230\":\n",
    "        r_g = 0.999706997\n",
    "        r_l = 0.927788768\n",
    "    elif a == \"FM-200\\u2122\":\n",
    "        r_g = 0.999706997\n",
    "        r_l = 0.94601711\n",
    "        \n",
    "    wt /= 1000  # convert to (m)\n",
    "    r = c / 2 / math.pi  # radius (m)\n",
    "\n",
    "    n = math.ceil(math.pi / math.acos((r - wt) / r))  # number of reflections (rounded up to nearest integer)\n",
    "    \n",
    "    x_plus_hat = (math.acos(2 * L / d) - 2 * L / d * math.sqrt(1 - (2 * L / d) ** 2)) / math.pi\n",
    "    x_minus_hat = 1 - x_plus_hat\n",
    "    a_plus_hat = (r_g ** n * x_plus_hat + r_l ** n * x_minus_hat) / r_g ** n\n",
    "    a_minus_hat = (r_g ** n * x_minus_hat + r_l ** n * x_plus_hat) / r_g ** n\n",
    "    xs = numpy.linspace(0, math.pi, 1000)\n",
    "    ys1 = [a_plus_hat * math.sin(x) for x in xs]\n",
    "    ax3.plot(xs, ys1, color='blue', linewidth=1, label=r'$\\hat{A}_L$' )\n",
    "    ys2 = [a_minus_hat * math.sin(x) for x in xs]\n",
    "    ax3.plot(xs, ys2, color='red', linewidth=1, label=r'$\\hat{A}_{-L}$' )\n",
    "    ys3 = [ys2[i] - ys1[i] for i in range(len(xs))]\n",
    "    ax4.plot(xs, ys3, color='green', linewidth=1, label=r'$\\Delta\\hat{A}_L$' )\n",
    "       \n",
    "    for ax in [ax3, ax4]:\n",
    "        ax.set_frame_on(False)\n",
    "        ax.get_xaxis().set_visible(False)\n",
    "        ax.plot([0, 0], [0, 1], color='black', linewidth=1)  # y axis\n",
    "        ax.set_yticks([0, 0.5, 1])\n",
    "        ax.set_yticklabels(['0%', '50%', '100%'])\n",
    "        ax.set_xlim([0, math.pi])\n",
    "        ax.set_ylim([0, 1])\n",
    "        \n",
    "    ax3.set_ylabel('Signal Amplitude (%)')\n",
    "\n",
    "    handles, labels = [(a + b) for a, b in zip(ax3.get_legend_handles_labels(), ax4.get_legend_handles_labels())]\n",
    "    fig.legend(handles, labels, loc=\"upper right\")\n",
    "\n",
    "    wt = int(wt * 100000) / 1000\n",
    "    print(\"d = diameter of crystal ({} mm)\".format(h))\n",
    "    print(\"L = liquid level above centre line ({} mm)\".format(L))\n",
    "    print(\"c = circumference of cylinder ({} m)\".format(c))\n",
    "    print(\"wt = wall thickness of cylinder ({} mm)\".format(wt))\n",
    "    print(\"a = agent ({})\".format(a))\n",
    "    plt.show()"
   ]
  },
  {
   "cell_type": "markdown",
   "metadata": {},
   "source": [
    "### Table of Precisions"
   ]
  },
  {
   "cell_type": "markdown",
   "metadata": {},
   "source": [
    "Now that we have determined a way of calculating the precision for both types of crystal, we may observe the interactive table below. The SNR values are dependent on the electronics of the device and have been estimated by observing the waveforms of the Portalevel MAX and the Portalevel TOUCH. For the circular crystal we use an SNR of 100 and for the rectangular crystal, an SNR of 133."
   ]
  },
  {
   "cell_type": "code",
   "execution_count": 4,
   "metadata": {},
   "outputs": [
    {
     "data": {
      "application/vnd.jupyter.widget-view+json": {
       "model_id": "f5fd9f0935084e4bb4c7855853d94995",
       "version_major": 2,
       "version_minor": 0
      },
      "text/plain": [
       "interactive(children=(FloatSlider(value=2.62, description='c', max=5.0, min=0.25, step=0.01), FloatSlider(valu…"
      ]
     },
     "metadata": {},
     "output_type": "display_data"
    }
   ],
   "source": [
    "from IPython.display import HTML, display\n",
    "import tabulate\n",
    "from scipy.optimize import newton_krylov\n",
    "\n",
    "def circ_rhs(p, r_g, r_l, ch, n, snr):\n",
    "    #  Given the precision, calculate the normalised amplitude difference for a circular crystal.\n",
    "    #  Use this with Newton-Krylov to solve backwards for the precision\n",
    "    #  p: precision (mm), float\n",
    "    #  r_g: steel-gas reflection coefficient, float\n",
    "    #  r_l: steel-liquid reflection coefficient, float\n",
    "    #  ch: crystal height (mm), float\n",
    "    #  n: number of reflections, int\n",
    "    #  snr: signal-to-noise ratio, float\n",
    "    #\n",
    "    #  returns zero\n",
    "    \n",
    "    delta_a_hat = (r_g ** n - r_l ** n) / math.pi / r_g ** n * (math.pi - 2 * math.acos(2 * p / ch)\n",
    "                                                                + 4 * p / ch * math.sqrt(1 - 4 * p ** 2 / ch ** 2))\n",
    "        \n",
    "    return delta_a_hat - 1 / snr\n",
    "    \n",
    "\n",
    "def find_precision(a, c, wt, cs, ch, snr):\n",
    "    #  a: agent in cylinder, str\n",
    "    #  c: circumference of cylinder (m), float\n",
    "    #  wt: wall thickness of cylinder (mm), float\n",
    "    #  cs: crystal shape, str\n",
    "    #  ch: crystal height, str\n",
    "    #  snr: signal-to-noise ratio, float\n",
    "    #\n",
    "    #  returns p: precision (mm), float\n",
    "    \n",
    "    if a == 'CO2':\n",
    "        r_g = 0.996751447224324  # Reflection Coefficient (steel-gas)\n",
    "        r_l = 0.96941482         # Reflection Coefficient (steel-liquid)\n",
    "    elif a == 'Novec':\n",
    "        r_g = 0.999706997\n",
    "        r_l = 0.927788768\n",
    "    elif a == 'FM200':\n",
    "        r_g = 0.999706997\n",
    "        r_l = 0.94601711\n",
    "        \n",
    "    wt /= 1000  # convert to metres\n",
    "    r = c / 2 / math.pi  # radius (m)\n",
    "    n = math.ceil(math.pi / math.acos((r - wt) / r))  # number of reflections (rounded up to nearest integer)\n",
    "    \n",
    "    if cs == 'rectangular':\n",
    "        p = ch * r_g ** n / (2 * snr * (r_g ** n - r_l ** n))\n",
    "    elif cs == 'circular':\n",
    "        p = newton_krylov(lambda p:circ_rhs(p, r_g, r_l, ch, n, snr), 0.5)\n",
    "    \n",
    "    p_string = '\\u00B1{:.4f}mm'.format(p)\n",
    "    return p_string\n",
    "\n",
    "@interact\n",
    "def create_table(c=(0.25, 5.0, 0.01), wt=(0.1, 40.0, 0.1)):\n",
    "    #  create table for circumference, c (m) and wall thickness, wt (mm)\n",
    "    print(\"c: circumference of cylinder ({}m)\".format(c))\n",
    "    wt = int(wt * 10) / 10\n",
    "    print(\"wt: wall thickness of cylinder ({}mm)\".format(wt))\n",
    "    \n",
    "    table = [[\"\", \"CO\\u2082\", \"Novec\\u2122 1230\", \"FM-200\\u2122\"],\n",
    "             [\"Rectangular Crystal\", find_precision('CO2', c, wt, 'rectangular', 20, 133),\n",
    "              find_precision('Novec', c, wt, 'rectangular', 20, 133), find_precision('FM200', c, wt, 'rectangular', 20, 133)],\n",
    "             [\"Circular Crystal\", find_precision('CO2', c, wt, 'circular', 15, 100),\n",
    "              find_precision('Novec', c, wt, 'circular', 15, 100), find_precision('FM200', c, wt, 'circular', 15, 100)]]\n",
    "    \n",
    "    display(HTML(tabulate.tabulate(table, tablefmt='html')))\n",
    "  \n"
   ]
  }
 ],
 "metadata": {
  "kernelspec": {
   "display_name": "Python 3",
   "language": "python",
   "name": "python3"
  },
  "language_info": {
   "codemirror_mode": {
    "name": "ipython",
    "version": 3
   },
   "file_extension": ".py",
   "mimetype": "text/x-python",
   "name": "python",
   "nbconvert_exporter": "python",
   "pygments_lexer": "ipython3",
   "version": "3.6.5"
  }
 },
 "nbformat": 4,
 "nbformat_minor": 5
}
